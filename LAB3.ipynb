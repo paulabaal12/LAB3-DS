{
 "cells": [
  {
   "cell_type": "markdown",
   "id": "064b10fe",
   "metadata": {},
   "source": [
    "# Laboratorio 3 | Análisis GeoEspacial y Sensores Remotos"
   ]
  },
  {
   "cell_type": "markdown",
   "id": "502644e5",
   "metadata": {},
   "source": [
    "Diego Duarte \n",
    "\n",
    "Paula Barillas"
   ]
  },
  {
   "cell_type": "markdown",
   "id": "561f6e68",
   "metadata": {},
   "source": [
    "\n",
    "## Parte 1: Acceso y Búsqueda\n",
    "1. Registrarse e iniciar sesión en [Copernicus Data Space](https://dataspace.copernicus.eu/).\n",
    "2. Buscar imágenes Sentinel-2 L2A:\n",
    "   - **Área:** Región del Petén\n",
    "   - **Fechas:** Enero 2020 y Enero 2024\n",
    "   - **Cobertura de nubes:** ≤ 10%\n",
    "\n",
    "## Parte 2: Descarga y Preprocesamiento\n",
    "1. Recortar el área de interés usando una caja o shapefile.\n",
    "2. Aplicar enmascarado de nubes si es posible (QA60 o SCL).\n",
    "3. Descargar las imágenes bandas 4 (Rojo) y 8 (Infrarrojo Cercano) en formato .tiff.\n",
    "4. Usar rasterio para cargar las imágenes al Jupyter Notebook.\n",
    "\n",
    "## Parte 3: Cálculo de NDVI y Detección de Cambios\n",
    "1. Calcular NDVI:\n",
    "   - NDVI = (NIR − Rojo) / (NIR + Rojo)\n",
    "2. Crear imagen de diferencia: NDVI_2024 - NDVI_2020\n",
    "3. Aplicar un umbral (ej. < -0.2) para marcar pérdida significativa de vegetación.\n",
    "\n",
    "## Parte 4: Visualización y Reporte\n",
    "1. Graficar:\n",
    "   - Mapas NDVI de 2020 y 2024\n",
    "   - Imagen de diferencia\n",
    "   - Máscara de deforestación\n",
    "2. Calcular el área (%) de deforestación.\n"
   ]
  },
  {
   "cell_type": "code",
   "execution_count": null,
   "id": "36c4088f",
   "metadata": {},
   "outputs": [],
   "source": [
    "# Parte 3: Cálculo de NDVI y Detección de Cambios\n",
    "import rasterio\n",
    "import numpy as np\n",
    "import matplotlib.pyplot as plt\n",
    "\n",
    "# Cargar bandas \n",
    "red_2020 = rasterio.open('B4_2020.tif').read(1).astype('float32')\n",
    "nir_2020 = rasterio.open('B8_2020.tif').read(1).astype('float32')\n",
    "red_2024 = rasterio.open('B4_2024.tif').read(1).astype('float32')\n",
    "nir_2024 = rasterio.open('B8_2024.tif').read(1).astype('float32')\n",
    "\n",
    "# Calcular NDVI\n",
    "ndvi_2020 = (nir_2020 - red_2020) / (nir_2020 + red_2020)\n",
    "ndvi_2024 = (nir_2024 - red_2024) / (nir_2024 + red_2024)\n",
    "\n",
    "# Imagen de diferencia\n",
    "ndvi_diff = ndvi_2024 - ndvi_2020\n",
    "\n",
    "# Máscara de deforestación (umbral < -0.2)\n",
    "def_mask = ndvi_diff < -0.2\n",
    "\n",
    "# Calcular área (%) de deforestación\n",
    "area_def = np.sum(def_mask) / def_mask.size * 100\n",
    "print(f\"Área de deforestación: {area_def:.2f}%\")\n",
    "\n",
    "# Parte 4: Visualización\n",
    "fig, axs = plt.subplots(1, 4, figsize=(20, 5))\n",
    "axs[0].imshow(ndvi_2020, cmap='RdYlGn')\n",
    "axs[0].set_title('NDVI 2020')\n",
    "axs[1].imshow(ndvi_2024, cmap='RdYlGn')\n",
    "axs[1].set_title('NDVI 2024')\n",
    "axs[2].imshow(ndvi_diff, cmap='bwr', vmin=-1, vmax=1)\n",
    "axs[2].set_title('Diferencia NDVI')\n",
    "axs[3].imshow(def_mask, cmap='gray')\n",
    "axs[3].set_title('Máscara de Deforestación')\n",
    "for ax in axs:\n",
    "    ax.axis('off')\n",
    "plt.tight_layout()\n",
    "plt.show()"
   ]
  }
 ],
 "metadata": {
  "language_info": {
   "name": "python"
  }
 },
 "nbformat": 4,
 "nbformat_minor": 5
}
